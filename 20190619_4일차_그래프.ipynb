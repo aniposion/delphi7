{
 "cells": [
  {
   "cell_type": "code",
   "execution_count": 2,
   "metadata": {},
   "outputs": [],
   "source": [
    "import numpy as np\n",
    "import matplotlib.pyplot as plt"
   ]
  },
  {
   "cell_type": "code",
   "execution_count": 15,
   "metadata": {},
   "outputs": [
    {
     "data": {
      "text/plain": [
       "[<matplotlib.lines.Line2D at 0x1ba29455898>]"
      ]
     },
     "execution_count": 15,
     "metadata": {},
     "output_type": "execute_result"
    },
    {
     "data": {
      "image/png": "[encoded data removed]",
      "text/plain": [
       "<Figure size 432x288 with 1 Axes>"
      ]
     },
     "metadata": {
      "needs_background": "light"
     },
     "output_type": "display_data"
    }
   ],
   "source": [
    "x = np.random.randint(0,5,size=(10))\n",
    "plt.hist(x)\n",
    "plt.plot(x)"
   ]
  },
  {
   "cell_type": "code",
   "execution_count": 20,
   "metadata": {
    "scrolled": true
   },
   "outputs": [
    {
     "data": {
      "image/png": "[encoded data removed]",
      "text/plain": [
       "<Figure size 432x288 with 1 Axes>"
      ]
     },
     "metadata": {
      "needs_background": "light"
     },
     "output_type": "display_data"
    }
   ],
   "source": [
    "x=np.random.randint(low=1,high=7,size=(1000))\n",
    "n=plt.hist(x, bins=6)"
   ]
  },
  {
   "cell_type": "code",
   "execution_count": 66,
   "metadata": {},
   "outputs": [
    {
     "data": {
      "text/plain": [
       "['날짜', '지점', '평균기온(℃)', '최저기온(℃)', '최고기온(℃)']"
      ]
     },
     "execution_count": 66,
     "metadata": {},
     "output_type": "execute_result"
    }
   ],
   "source": [
    "import csv\n",
    "f = open('seoul.csv')\n",
    "data = csv.reader(f)\n",
    "next(data)"
   ]
  },
  {
   "cell_type": "code",
   "execution_count": 48,
   "metadata": {
    "scrolled": true
   },
   "outputs": [],
   "source": [
    "date=next(data)"
   ]
  },
  {
   "cell_type": "code",
   "execution_count": 49,
   "metadata": {},
   "outputs": [
    {
     "data": {
      "text/plain": [
       "'1907-10-02'"
      ]
     },
     "execution_count": 49,
     "metadata": {},
     "output_type": "execute_result"
    }
   ],
   "source": [
    "date[0]"
   ]
  },
  {
   "cell_type": "code",
   "execution_count": 62,
   "metadata": {},
   "outputs": [
    {
     "data": {
      "text/plain": [
       "'10'"
      ]
     },
     "execution_count": 62,
     "metadata": {},
     "output_type": "execute_result"
    }
   ],
   "source": [
    "date[0].split('-')[1]"
   ]
  },
  {
   "cell_type": "code",
   "execution_count": 67,
   "metadata": {},
   "outputs": [
    {
     "data": {
      "text/plain": [
       "[26.2,\n",
       " 28.0,\n",
       " 28.3,\n",
       " 29.1,\n",
       " 24.9,\n",
       " 24.8,\n",
       " 24.8,\n",
       " 27.5,\n",
       " 28.9,\n",
       " 27.5,\n",
       " 28.9,\n",
       " 24.5,\n",
       " 26.1,\n",
       " 27.6,\n",
       " 29.5,\n",
       " 26.5,\n",
       " 27.0,\n",
       " 23.5,\n",
       " 21.2,\n",
       " 25.8,\n",
       " 28.0,\n",
       " 29.1,\n",
       " 32.4,\n",
       " 31.0,\n",
       " 22.1,\n",
       " 29.4,\n",
       " 29.6,\n",
       " 23.0,\n",
       " 26.4,\n",
       " 23.5,\n",
       " 31.7,\n",
       " 31.4,\n",
       " 31.4,\n",
       " 20.0,\n",
       " 19.3,\n",
       " 24.0,\n",
       " 24.1,\n",
       " 23.8,\n",
       " 23.8,\n",
       " 26.0,\n",
       " 25.8,\n",
       " 25.6,\n",
       " 26.1,\n",
       " 26.0,\n",
       " 27.4,\n",
       " 24.9,\n",
       " 27.2,\n",
       " 28.0,\n",
       " 30.1,\n",
       " 27.0,\n",
       " 29.8,\n",
       " 29.1,\n",
       " 30.0,\n",
       " 26.6,\n",
       " 27.9,\n",
       " 28.0,\n",
       " 27.0,\n",
       " 25.9,\n",
       " 27.0,\n",
       " 25.5,\n",
       " 23.5,\n",
       " 24.3,\n",
       " 20.5,\n",
       " 23.4,\n",
       " 20.2,\n",
       " 22.3,\n",
       " 23.1,\n",
       " 26.3,\n",
       " 27.6,\n",
       " 26.7,\n",
       " 31.2,\n",
       " 23.9,\n",
       " 24.2,\n",
       " 26.1,\n",
       " 26.5,\n",
       " 26.0,\n",
       " 26.5,\n",
       " 31.5,\n",
       " 22.8,\n",
       " 22.5,\n",
       " 24.5,\n",
       " 20.4,\n",
       " 27.2,\n",
       " 29.3,\n",
       " 28.3,\n",
       " 23.7,\n",
       " 24.8,\n",
       " 25.3,\n",
       " 25.1,\n",
       " 31.5,\n",
       " 25.5,\n",
       " 28.0,\n",
       " 22.4,\n",
       " 19.5,\n",
       " 25.3,\n",
       " 24.4,\n",
       " 25.6,\n",
       " 26.2,\n",
       " 28.5,\n",
       " 27.8,\n",
       " 26.8,\n",
       " 25.8,\n",
       " 28.7,\n",
       " 29.3,\n",
       " 24.0,\n",
       " 25.6,\n",
       " 24.7,\n",
       " 18.6,\n",
       " 26.5,\n",
       " 27.5,\n",
       " 30.6,\n",
       " 30.4,\n",
       " 29.5,\n",
       " 28.8,\n",
       " 21.1,\n",
       " 25.1,\n",
       " 26.8,\n",
       " 25.3,\n",
       " 26.3,\n",
       " 29.0,\n",
       " 27.4,\n",
       " 21.5,\n",
       " 26.0,\n",
       " 27.8,\n",
       " 30.0,\n",
       " 28.8,\n",
       " 26.1,\n",
       " 23.7,\n",
       " 22.8,\n",
       " 23.3,\n",
       " 25.0,\n",
       " 26.5,\n",
       " 26.9,\n",
       " 29.0,\n",
       " 23.8,\n",
       " 22.7,\n",
       " 27.8,\n",
       " 29.8,\n",
       " 29.9,\n",
       " 24.0,\n",
       " 24.8,\n",
       " 26.6,\n",
       " 28.7,\n",
       " 25.3,\n",
       " 29.3,\n",
       " 29.5,\n",
       " 28.2,\n",
       " 28.8,\n",
       " 29.8,\n",
       " 29.2,\n",
       " 27.4,\n",
       " 27.4,\n",
       " 24.2,\n",
       " 26.4,\n",
       " 27.7,\n",
       " 27.8,\n",
       " 25.0,\n",
       " 29.2,\n",
       " 23.8,\n",
       " 26.8,\n",
       " 27.1,\n",
       " 25.7,\n",
       " 28.0,\n",
       " 30.8,\n",
       " 23.7,\n",
       " 21.0,\n",
       " 22.8,\n",
       " 26.1,\n",
       " 23.0,\n",
       " 27.1,\n",
       " 23.5,\n",
       " 25.6,\n",
       " 26.9,\n",
       " 25.1,\n",
       " 23.6,\n",
       " 23.8,\n",
       " 20.8,\n",
       " 19.7,\n",
       " 23.6,\n",
       " 24.6,\n",
       " 23.8,\n",
       " 24.8,\n",
       " 20.8,\n",
       " 25.6,\n",
       " 24.2,\n",
       " 26.6,\n",
       " 20.1,\n",
       " 21.1,\n",
       " 23.1,\n",
       " 26.0,\n",
       " 25.2,\n",
       " 28.1,\n",
       " 26.4,\n",
       " 27.8,\n",
       " 21.1,\n",
       " 28.8,\n",
       " 27.5,\n",
       " 27.0,\n",
       " 26.7,\n",
       " 32.7,\n",
       " 32.3,\n",
       " 32.8,\n",
       " 32.7,\n",
       " 35.0,\n",
       " 24.1,\n",
       " 26.8,\n",
       " 28.0,\n",
       " 30.1,\n",
       " 26.0,\n",
       " 26.0,\n",
       " 22.2,\n",
       " 24.0,\n",
       " 26.3,\n",
       " 20.3,\n",
       " 22.8,\n",
       " 26.7,\n",
       " 25.6,\n",
       " 26.3,\n",
       " 22.5,\n",
       " 27.5,\n",
       " 26.3,\n",
       " 22.3,\n",
       " 25.8,\n",
       " 27.8,\n",
       " 30.5,\n",
       " 27.5,\n",
       " 24.2,\n",
       " 20.7,\n",
       " 24.5,\n",
       " 23.7,\n",
       " 27.8,\n",
       " 28.1,\n",
       " 27.2,\n",
       " 26.2,\n",
       " 26.4,\n",
       " 27.5,\n",
       " 29.0,\n",
       " 29.7,\n",
       " 27.6,\n",
       " 27.6,\n",
       " 27.7,\n",
       " 28.6,\n",
       " 27.1,\n",
       " 32.2,\n",
       " 27.7,\n",
       " 25.1,\n",
       " 25.3,\n",
       " 26.2,\n",
       " 22.5,\n",
       " 21.2,\n",
       " 25.8,\n",
       " 25.2,\n",
       " 27.2,\n",
       " 23.6,\n",
       " 23.3,\n",
       " 24.7,\n",
       " 28.5,\n",
       " 30.7,\n",
       " 31.7,\n",
       " 26.0,\n",
       " 29.9,\n",
       " 27.1,\n",
       " 28.5,\n",
       " 28.3,\n",
       " 27.7,\n",
       " 29.1,\n",
       " 23.7,\n",
       " 23.5,\n",
       " 28.2,\n",
       " 27.7,\n",
       " 24.5,\n",
       " 21.4,\n",
       " 26.9,\n",
       " 24.5,\n",
       " 27.8,\n",
       " 28.3,\n",
       " 27.8,\n",
       " 28.5,\n",
       " 31.4,\n",
       " 27.3,\n",
       " 27.3,\n",
       " 21.7,\n",
       " 25.3,\n",
       " 28.8,\n",
       " 34.5,\n",
       " 36.7,\n",
       " 33.5,\n",
       " 28.2,\n",
       " 27.3,\n",
       " 28.1,\n",
       " 31.8,\n",
       " 33.5,\n",
       " 31.3,\n",
       " 31.0,\n",
       " 25.1,\n",
       " 25.8,\n",
       " 27.2,\n",
       " 26.9,\n",
       " 28.6,\n",
       " 31.1,\n",
       " 19.1,\n",
       " 22.3,\n",
       " 21.0,\n",
       " 23.1,\n",
       " 22.3,\n",
       " 23.7,\n",
       " 27.2,\n",
       " 24.7,\n",
       " 25.7,\n",
       " 19.7,\n",
       " 24.3,\n",
       " 27.5,\n",
       " 27.8,\n",
       " 27.3,\n",
       " 26.8,\n",
       " 28.8,\n",
       " 26.4,\n",
       " 25.4,\n",
       " 30.0,\n",
       " 31.5,\n",
       " 30.1,\n",
       " 24.9,\n",
       " 21.3,\n",
       " 27.2,\n",
       " 26.9,\n",
       " 26.3,\n",
       " 29.0,\n",
       " 24.1,\n",
       " 27.0,\n",
       " 24.9,\n",
       " 27.2,\n",
       " 21.6,\n",
       " 28.1,\n",
       " 25.3,\n",
       " 21.2,\n",
       " 21.7,\n",
       " 29.8,\n",
       " 30.0,\n",
       " 24.9,\n",
       " 25.0,\n",
       " 26.1,\n",
       " 20.6,\n",
       " 24.8,\n",
       " 24.9,\n",
       " 27.9,\n",
       " 22.7,\n",
       " 23.7,\n",
       " 28.0,\n",
       " 27.3,\n",
       " 28.2,\n",
       " 26.0,\n",
       " 25.1,\n",
       " 28.2,\n",
       " 28.5,\n",
       " 30.0,\n",
       " 26.2,\n",
       " 29.5,\n",
       " 29.5,\n",
       " 28.5,\n",
       " 28.6,\n",
       " 27.3,\n",
       " 27.8,\n",
       " 29.5,\n",
       " 26.4,\n",
       " 24.0,\n",
       " 27.3,\n",
       " 25.6,\n",
       " 30.7,\n",
       " 33.4,\n",
       " 32.0,\n",
       " 29.8,\n",
       " 23.6,\n",
       " 26.4,\n",
       " 24.0,\n",
       " 21.9,\n",
       " 26.4,\n",
       " 24.4,\n",
       " 23.6,\n",
       " 27.8,\n",
       " 26.1,\n",
       " 26.9,\n",
       " 26.6,\n",
       " 26.4,\n",
       " 27.4,\n",
       " 28.4,\n",
       " 30.3,\n",
       " 28.8,\n",
       " 31.2,\n",
       " 33.8,\n",
       " 35.6,\n",
       " 19.7,\n",
       " 21.4,\n",
       " 24.0,\n",
       " 24.9,\n",
       " 26.7,\n",
       " 29.5,\n",
       " 29.9,\n",
       " 28.7,\n",
       " 23.0,\n",
       " 22.6,\n",
       " 23.1,\n",
       " 24.2,\n",
       " 27.1,\n",
       " 26.4,\n",
       " 27.6,\n",
       " 32.7,\n",
       " 24.3,\n",
       " 20.2,\n",
       " 25.5,\n",
       " 27.1,\n",
       " 30.0,\n",
       " 28.8,\n",
       " 26.8,\n",
       " 24.5,\n",
       " 28.0,\n",
       " 26.8,\n",
       " 26.2,\n",
       " 23.8,\n",
       " 26.4,\n",
       " 27.2,\n",
       " 28.4,\n",
       " 26.8,\n",
       " 26.6,\n",
       " 26.3,\n",
       " 28.8,\n",
       " 25.8,\n",
       " 25.8,\n",
       " 23.3,\n",
       " 22.4,\n",
       " 22.3,\n",
       " 25.9,\n",
       " 31.0,\n",
       " 29.5,\n",
       " 32.6,\n",
       " 31.0,\n",
       " 24.3,\n",
       " 27.9,\n",
       " 29.4,\n",
       " 32.7,\n",
       " 34.5,\n",
       " 31.6,\n",
       " 32.0,\n",
       " 32.5,\n",
       " 30.6,\n",
       " 27.9,\n",
       " 28.3,\n",
       " 25.7,\n",
       " 26.4,\n",
       " 29.8,\n",
       " 31.4,\n",
       " 24.3,\n",
       " 24.5,\n",
       " 24.0,\n",
       " 25.1,\n",
       " 28.0,\n",
       " 25.3,\n",
       " 26.3,\n",
       " 28.0,\n",
       " 28.5,\n",
       " 23.7,\n",
       " 27.5,\n",
       " 23.0,\n",
       " 27.8,\n",
       " 30.6,\n",
       " 28.2,\n",
       " 27.2,\n",
       " 30.1,\n",
       " 27.3,\n",
       " 29.2,\n",
       " 31.4,\n",
       " 25.5,\n",
       " 28.7,\n",
       " 26.6,\n",
       " 27.0,\n",
       " 31.8,\n",
       " 32.1,\n",
       " 33.0,\n",
       " 32.4,\n",
       " 22.5,\n",
       " 26.3,\n",
       " 29.2,\n",
       " 29.9,\n",
       " 26.6,\n",
       " 28.0,\n",
       " 28.5,\n",
       " 28.9,\n",
       " 27.1,\n",
       " 25.1,\n",
       " 20.0,\n",
       " 24.0,\n",
       " 23.0,\n",
       " 21.5,\n",
       " 24.6,\n",
       " 24.4,\n",
       " 24.2,\n",
       " 30.3,\n",
       " 22.6,\n",
       " 28.4,\n",
       " 29.5,\n",
       " 32.0,\n",
       " 33.3,\n",
       " 26.2,\n",
       " 29.4,\n",
       " 27.6,\n",
       " 32.4,\n",
       " 32.0,\n",
       " 33.4,\n",
       " 31.6,\n",
       " 31.4,\n",
       " 32.2,\n",
       " 26.5,\n",
       " 25.0,\n",
       " 25.3,\n",
       " 23.7,\n",
       " 27.3,\n",
       " 26.1,\n",
       " 24.9,\n",
       " 26.3,\n",
       " 27.2,\n",
       " 25.6,\n",
       " 25.5,\n",
       " 26.7,\n",
       " 27.0,\n",
       " 21.7,\n",
       " 23.4,\n",
       " 25.0,\n",
       " 27.2,\n",
       " 22.9,\n",
       " 22.2,\n",
       " 26.4,\n",
       " 30.3,\n",
       " 29.5,\n",
       " 23.5,\n",
       " 25.4,\n",
       " 28.7,\n",
       " 29.3,\n",
       " 27.8,\n",
       " 28.4,\n",
       " 29.7,\n",
       " 29.9,\n",
       " 23.7,\n",
       " 26.7,\n",
       " 26.7,\n",
       " 26.2,\n",
       " 28.7,\n",
       " 27.4,\n",
       " 26.2,\n",
       " 28.4,\n",
       " 28.4,\n",
       " 26.8,\n",
       " 28.0,\n",
       " 24.2,\n",
       " 24.4,\n",
       " 23.4,\n",
       " 21.0,\n",
       " 25.0,\n",
       " 27.0,\n",
       " 27.3,\n",
       " 30.0,\n",
       " 30.6,\n",
       " 31.6,\n",
       " 31.2,\n",
       " 30.7,\n",
       " 28.7,\n",
       " 28.9,\n",
       " 25.7,\n",
       " 27.7,\n",
       " 26.7,\n",
       " 27.1,\n",
       " 27.4,\n",
       " 25.1,\n",
       " 26.1,\n",
       " 23.7,\n",
       " 27.9,\n",
       " 26.7,\n",
       " 24.0,\n",
       " 23.5,\n",
       " 23.0,\n",
       " 24.5,\n",
       " 28.2,\n",
       " 29.4,\n",
       " 28.4,\n",
       " 29.0,\n",
       " 31.2,\n",
       " 28.9,\n",
       " 25.2,\n",
       " 28.1,\n",
       " 25.7,\n",
       " 28.7,\n",
       " 29.6,\n",
       " 32.9,\n",
       " 33.5,\n",
       " 25.0,\n",
       " 27.8,\n",
       " 27.8,\n",
       " 27.4,\n",
       " 28.8,\n",
       " 30.6,\n",
       " 30.9,\n",
       " 30.1,\n",
       " 27.7,\n",
       " 20.2,\n",
       " 24.4,\n",
       " 27.0,\n",
       " 24.7,\n",
       " 27.4,\n",
       " 28.7,\n",
       " 28.4,\n",
       " 32.0,\n",
       " 31.8,\n",
       " 32.2,\n",
       " 24.5,\n",
       " 27.2,\n",
       " 28.9,\n",
       " 30.2,\n",
       " 28.0,\n",
       " 29.2,\n",
       " 22.0,\n",
       " 19.4,\n",
       " 27.9,\n",
       " 29.9,\n",
       " 25.7,\n",
       " 27.2,\n",
       " 31.0,\n",
       " 30.0,\n",
       " 31.7,\n",
       " 30.3,\n",
       " 29.2,\n",
       " 30.8,\n",
       " 26.0,\n",
       " 30.0,\n",
       " 27.7,\n",
       " 28.7,\n",
       " 26.8,\n",
       " 27.5,\n",
       " 25.9,\n",
       " 29.1,\n",
       " 29.9,\n",
       " 33.3,\n",
       " 31.0,\n",
       " 23.9,\n",
       " 31.0,\n",
       " 31.7,\n",
       " 29.7,\n",
       " 28.0,\n",
       " 32.2,\n",
       " 28.4,\n",
       " 29.2,\n",
       " 31.7,\n",
       " 29.8,\n",
       " 31.0,\n",
       " 31.2,\n",
       " 33.7,\n",
       " 33.7,\n",
       " 35.5,\n",
       " 32.0,\n",
       " 27.6,\n",
       " 22.6,\n",
       " 28.4,\n",
       " 31.4,\n",
       " 22.4,\n",
       " 26.2,\n",
       " 27.9,\n",
       " 27.6,\n",
       " 25.1,\n",
       " 22.2,\n",
       " 23.6,\n",
       " 25.3,\n",
       " 28.5,\n",
       " 30.2,\n",
       " 29.9,\n",
       " 32.4,\n",
       " 34.2,\n",
       " 26.5,\n",
       " 26.2,\n",
       " 28.4,\n",
       " 29.2,\n",
       " 26.7,\n",
       " 27.9,\n",
       " 27.2,\n",
       " 25.0,\n",
       " 28.0,\n",
       " 32.1,\n",
       " 30.0,\n",
       " 27.4,\n",
       " 31.1,\n",
       " 34.0,\n",
       " 30.3,\n",
       " 33.1,\n",
       " 23.5,\n",
       " 25.2,\n",
       " 26.2,\n",
       " 25.3,\n",
       " 26.2,\n",
       " 23.2,\n",
       " 27.5,\n",
       " 29.1,\n",
       " 28.2,\n",
       " 26.1,\n",
       " 25.5,\n",
       " 23.5,\n",
       " 24.6,\n",
       " 26.7,\n",
       " 28.3,\n",
       " 26.0,\n",
       " 26.1,\n",
       " 24.1,\n",
       " 29.4,\n",
       " 30.5,\n",
       " 32.0,\n",
       " 30.5,\n",
       " 30.5,\n",
       " 31.0,\n",
       " 30.6,\n",
       " 30.4,\n",
       " 31.0,\n",
       " 28.4,\n",
       " 29.0,\n",
       " 29.7,\n",
       " 32.3,\n",
       " 26.7,\n",
       " 27.0,\n",
       " 29.8,\n",
       " 29.2,\n",
       " 25.6,\n",
       " 27.9,\n",
       " 26.0,\n",
       " 27.1,\n",
       " 24.9,\n",
       " 28.9,\n",
       " 31.1,\n",
       " 25.9,\n",
       " 21.7,\n",
       " 28.6,\n",
       " 22.7,\n",
       " 26.7,\n",
       " 30.4,\n",
       " 29.6,\n",
       " 28.1,\n",
       " 26.6,\n",
       " 24.0,\n",
       " 25.0,\n",
       " 26.2,\n",
       " 29.9,\n",
       " 29.0,\n",
       " 29.3,\n",
       " 31.0,\n",
       " 28.5,\n",
       " 29.7,\n",
       " 32.1,\n",
       " 22.8,\n",
       " 28.0,\n",
       " 23.1,\n",
       " 30.7,\n",
       " 31.3,\n",
       " 24.8,\n",
       " 22.3,\n",
       " 24.3,\n",
       " 25.5,\n",
       " 28.4,\n",
       " 30.2,\n",
       " 27.5,\n",
       " 22.7,\n",
       " 23.0,\n",
       " 25.8,\n",
       " 25.0,\n",
       " 25.0,\n",
       " 24.3,\n",
       " 28.9,\n",
       " 30.4,\n",
       " 31.1,\n",
       " 31.3,\n",
       " 25.3,\n",
       " 26.7,\n",
       " 27.9,\n",
       " 24.8,\n",
       " 22.8,\n",
       " 24.1,\n",
       " 20.9,\n",
       " 26.3,\n",
       " 25.3,\n",
       " 21.4,\n",
       " 18.7,\n",
       " 21.8,\n",
       " 22.2,\n",
       " 21.9,\n",
       " 22.5,\n",
       " 23.2,\n",
       " 29.3,\n",
       " 29.6,\n",
       " 25.9,\n",
       " 22.5,\n",
       " 22.6,\n",
       " 24.8,\n",
       " 26.0,\n",
       " 25.2,\n",
       " 27.0,\n",
       " 27.8,\n",
       " 27.8,\n",
       " 30.7,\n",
       " 29.4,\n",
       " 31.9,\n",
       " 26.6,\n",
       " 24.6,\n",
       " 22.2,\n",
       " 22.8,\n",
       " 27.5,\n",
       " 24.9,\n",
       " 26.0,\n",
       " 25.2,\n",
       " 29.0,\n",
       " 29.8,\n",
       " 22.1,\n",
       " 16.2,\n",
       " 23.5,\n",
       " 23.1,\n",
       " 22.1,\n",
       " 27.4,\n",
       " 25.2,\n",
       " 24.0,\n",
       " 27.9,\n",
       " 29.5,\n",
       " 28.2,\n",
       " 29.0,\n",
       " 27.8,\n",
       " 21.8,\n",
       " 22.9,\n",
       " 26.6,\n",
       " 27.3,\n",
       " 26.0,\n",
       " 26.3,\n",
       " 25.0,\n",
       " 24.0,\n",
       " 28.3,\n",
       " 27.2,\n",
       " 28.4,\n",
       " 28.5,\n",
       " 25.6,\n",
       " 23.1,\n",
       " 25.4,\n",
       " 24.4,\n",
       " 23.7,\n",
       " 21.4,\n",
       " 22.9,\n",
       " 25.3,\n",
       " 28.1,\n",
       " 26.4,\n",
       " 21.3,\n",
       " 22.6,\n",
       " 25.0,\n",
       " 27.1,\n",
       " 30.5,\n",
       " 30.2,\n",
       " 26.9,\n",
       " 29.8,\n",
       " 32.1,\n",
       " 27.0,\n",
       " 28.6,\n",
       " 25.2,\n",
       " 22.4,\n",
       " 27.2,\n",
       " 28.5,\n",
       " 28.0,\n",
       " 29.1,\n",
       " 28.8,\n",
       " 29.2,\n",
       " 28.7,\n",
       " 21.4,\n",
       " 24.3,\n",
       " 28.1,\n",
       " 22.6,\n",
       " 24.7,\n",
       " 28.9,\n",
       " 32.2,\n",
       " 25.2,\n",
       " 28.2,\n",
       " 26.4,\n",
       " 23.3,\n",
       " 25.4,\n",
       " 27.1,\n",
       " 28.9,\n",
       " 29.6,\n",
       " 30.2,\n",
       " 30.4,\n",
       " 26.4,\n",
       " 26.7,\n",
       " 28.4,\n",
       " 30.4,\n",
       " 30.3,\n",
       " 31.3,\n",
       " 32.2,\n",
       " 32.1,\n",
       " 32.1,\n",
       " 32.5,\n",
       " 32.0,\n",
       " 25.6,\n",
       " 24.5,\n",
       " 25.7,\n",
       " 22.6,\n",
       " 24.2,\n",
       " 21.9,\n",
       " 25.6,\n",
       " 25.8,\n",
       " 23.4,\n",
       " 21.4,\n",
       " 20.5,\n",
       " 26.3,\n",
       " 26.3,\n",
       " 27.6,\n",
       " 26.9,\n",
       " 20.9,\n",
       " 20.5,\n",
       " 26.2,\n",
       " 25.6,\n",
       " 21.1,\n",
       " 26.2,\n",
       " 24.3,\n",
       " 21.1,\n",
       " 18.6,\n",
       " 25.7,\n",
       " 25.2,\n",
       " 26.6,\n",
       " 32.2,\n",
       " 26.3,\n",
       " 30.9,\n",
       " 29.1,\n",
       " 27.8,\n",
       " 26.5,\n",
       " 29.8,\n",
       " 30.8,\n",
       " 25.6,\n",
       " 22.6,\n",
       " 22.8,\n",
       " 25.0,\n",
       " 26.7,\n",
       " 29.8,\n",
       " 21.8,\n",
       " 24.8,\n",
       " 28.6,\n",
       " 29.1,\n",
       " 25.0,\n",
       " 25.9,\n",
       " 29.2,\n",
       " 25.4,\n",
       " 29.1,\n",
       " 33.3,\n",
       " 32.6,\n",
       " 29.7,\n",
       " 31.2,\n",
       " 29.6,\n",
       " 25.2,\n",
       " 30.4,\n",
       " 31.9,\n",
       " 26.2,\n",
       " 22.4,\n",
       " 28.3,\n",
       " 25.8,\n",
       " 21.8,\n",
       " 27.2,\n",
       " 28.7,\n",
       " 24.6,\n",
       " 21.4,\n",
       " 18.0,\n",
       " 24.3,\n",
       " 22.8,\n",
       " 22.6,\n",
       " 24.4,\n",
       " 23.4,\n",
       " 25.5,\n",
       " 28.1,\n",
       " 27.4,\n",
       " 28.4,\n",
       " 27.3,\n",
       " 27.6,\n",
       " 30.2,\n",
       " 26.4,\n",
       " 25.8,\n",
       " 26.5,\n",
       " 27.7,\n",
       " 32.4,\n",
       " 32.5,\n",
       " 32.3,\n",
       " 28.5,\n",
       " 23.9,\n",
       " 21.5,\n",
       " 26.9,\n",
       " 26.0,\n",
       " 29.2,\n",
       " 30.5,\n",
       " 30.4,\n",
       " 24.0,\n",
       " 25.0,\n",
       " 26.9,\n",
       " 27.4,\n",
       " 27.7,\n",
       " 26.7,\n",
       " 18.9,\n",
       " 26.1,\n",
       " 28.2,\n",
       " 23.9,\n",
       " ...]"
      ]
     },
     "execution_count": 67,
     "metadata": {},
     "output_type": "execute_result"
    }
   ],
   "source": [
    "result=[]\n",
    "for row in data:\n",
    "    if row[-1]!='':\n",
    "        date=row[0]\n",
    "        if date.split('-')[1] =='06':\n",
    "            result.append(float(row[-1]))\n",
    "result"
   ]
  },
  {
   "cell_type": "code",
   "execution_count": 68,
   "metadata": {},
   "outputs": [
    {
     "data": {
      "text/plain": [
       "[<matplotlib.lines.Line2D at 0x1ba2f379160>]"
      ]
     },
     "execution_count": 68,
     "metadata": {},
     "output_type": "execute_result"
    },
    {
     "data": {
      "image/png": "[encoded data removed]",
      "text/plain": [
       "<Figure size 432x288 with 1 Axes>"
      ]
     },
     "metadata": {
      "needs_background": "light"
     },
     "output_type": "display_data"
    }
   ],
   "source": [
    "plt.plot(result)"
   ]
  },
  {
   "cell_type": "code",
   "execution_count": 69,
   "metadata": {
    "scrolled": false
   },
   "outputs": [
    {
     "data": {
      "image/png": "[encoded data removed]",
      "text/plain": [
       "<Figure size 2160x720 with 1 Axes>"
      ]
     },
     "metadata": {
      "needs_background": "light"
     },
     "output_type": "display_data"
    }
   ],
   "source": [
    "plt.figure(figsize=(30,10))\n",
    "n=plt.hist(result, bins=100, color='r')"
   ]
  },
  {
   "cell_type": "code",
   "execution_count": 45,
   "metadata": {
    "scrolled": true
   },
   "outputs": [
    {
     "ename": "TypeError",
     "evalue": "'_csv.reader' object is not subscriptable",
     "output_type": "error",
     "traceback": [
      "\u001b[1;31m---------------------------------------------------------------------------\u001b[0m",
      "\u001b[1;31mTypeError\u001b[0m                                 Traceback (most recent call last)",
      "\u001b[1;32m<ipython-input-45-80a4aab09c73>\u001b[0m in \u001b[0;36m<module>\u001b[1;34m\u001b[0m\n\u001b[1;32m----> 1\u001b[1;33m \u001b[0mdata\u001b[0m\u001b[1;33m[\u001b[0m\u001b[1;36m0\u001b[0m\u001b[1;33m]\u001b[0m\u001b[1;33m\u001b[0m\u001b[1;33m\u001b[0m\u001b[0m\n\u001b[0m",
      "\u001b[1;31mTypeError\u001b[0m: '_csv.reader' object is not subscriptable"
     ]
    }
   ],
   "source": []
  },
  {
   "cell_type": "code",
   "execution_count": 117,
   "metadata": {},
   "outputs": [
    {
     "data": {
      "text/plain": [
       "('2012-06-19', 33.5)"
      ]
     },
     "execution_count": 117,
     "metadata": {},
     "output_type": "execute_result"
    }
   ],
   "source": [
    "#지난 100년간 6월19일의 최고 온도인 날짜\n",
    "#['날짜', '지점', '평균기온(℃)', '최저기온(℃)', '최고기온(℃)']\n",
    "import csv\n",
    "import numpy as np\n",
    "\n",
    "f = open('seoul.csv')\n",
    "data = csv.reader(f)\n",
    "next(data)\n",
    "temp1=[]\n",
    "temp2=[]\n",
    "for row in data:\n",
    "    if row[-1]!='':\n",
    "        date=row[0].split('-')\n",
    "        if date[1]+date[2] == '0619':\n",
    "            temp1.append(float(row[-1]))\n",
    "            temp2.append(row[0])\n",
    "\n",
    "temp2[np.argmax(temp1)], np.max(temp1)"
   ]
  },
  {
   "cell_type": "code",
   "execution_count": 115,
   "metadata": {},
   "outputs": [
    {
     "data": {
      "text/plain": [
       "('2012-06-19', 33.5)"
      ]
     },
     "execution_count": 115,
     "metadata": {},
     "output_type": "execute_result"
    }
   ],
   "source": [
    "#지난 100년간 6월19일의 최고 온도인 날짜\n",
    "#['날짜', '지점', '평균기온(℃)', '최저기온(℃)', '최고기온(℃)']\n",
    "import csv\n",
    "import numpy as np\n",
    "\n",
    "f = open('seoul.csv')\n",
    "data = csv.reader(f)\n",
    "next(data)\n",
    "\n",
    "day1= ''\n",
    "temp=0.0\n",
    "for row in data:\n",
    "    if row[-1]!='':\n",
    "        date=row[0].split('-')\n",
    "        if date[1]+date[2] == '0619':\n",
    "            if temp < float(row[-1]):\n",
    "                temp = float(row[-1])\n",
    "                day1 = row[0]\n",
    "\n",
    "day1,temp"
   ]
  },
  {
   "cell_type": "code",
   "execution_count": 133,
   "metadata": {
    "scrolled": true
   },
   "outputs": [
    {
     "data": {
      "text/plain": [
       "<matplotlib.legend.Legend at 0x1ba35862240>"
      ]
     },
     "execution_count": 133,
     "metadata": {},
     "output_type": "execute_result"
    },
    {
     "data": {
      "image/png": "[encoded data removed]",
      "text/plain": [
       "<Figure size 2160x720 with 1 Axes>"
      ]
     },
     "metadata": {
      "needs_background": "light"
     },
     "output_type": "display_data"
    }
   ],
   "source": [
    "#85~86처럼 8월과 1월의 최고 기온 히스토그램을 같이 그리세요\n",
    "import csv\n",
    "import matplotlib.pyplot as plt\n",
    "f = open('seoul.csv')\n",
    "data = csv.reader(f)\n",
    "next(data)\n",
    "n01=[]\n",
    "n02=[]\n",
    "for row in data:\n",
    "    if row[-1]!='':\n",
    "        date=row[0].split('-')\n",
    "        if date[1] == '01':\n",
    "            n01.append(float(row[-1]))\n",
    "        if date[1] == '08':\n",
    "            n02.append(float(row[-1]))\n",
    "\n",
    "plt.figure(figsize=(30,10))\n",
    "plt.hist(n01, bins=100, color='b', label='Jan')\n",
    "plt.hist(n02, bins=100, color='r', label='Aug')\n",
    "plt.legend(loc =9)"
   ]
  },
  {
   "cell_type": "code",
   "execution_count": null,
   "metadata": {},
   "outputs": [],
   "source": [
    "#boxplt #데이터를 정규분포로 표현했을때 그 범위를 벗어나면 이상치\n"
   ]
  },
  {
   "cell_type": "code",
   "execution_count": 137,
   "metadata": {},
   "outputs": [
    {
     "data": {
      "image/png": "[encoded data removed]",
      "text/plain": [
       "<Figure size 720x720 with 1 Axes>"
      ]
     },
     "metadata": {
      "needs_background": "light"
     },
     "output_type": "display_data"
    }
   ],
   "source": [
    "import csv\n",
    "import matplotlib.pyplot as plt\n",
    "f = open('seoul.csv')\n",
    "data = csv.reader(f)\n",
    "next(data)\n",
    "result=[]\n",
    "\n",
    "for row in date:\n",
    "    if row[-1]!='':\n",
    "        result.append(float(row[-1]))\n",
    "\n",
    "plt.figure(figsize=(10,10))\n",
    "n=plt.boxplot(result)"
   ]
  },
  {
   "cell_type": "code",
   "execution_count": 138,
   "metadata": {},
   "outputs": [
    {
     "data": {
      "image/png": "[encoded data removed]",
      "text/plain": [
       "<Figure size 720x720 with 1 Axes>"
      ]
     },
     "metadata": {
      "needs_background": "light"
     },
     "output_type": "display_data"
    }
   ],
   "source": [
    "import csv\n",
    "import matplotlib.pyplot as plt\n",
    "f = open('seoul.csv')\n",
    "data = csv.reader(f)\n",
    "next(data)\n",
    "result=[]\n",
    "\n",
    "temp1=[]\n",
    "\n",
    "for row in data:\n",
    "    if row[-1]!='':\n",
    "        date=row[0].split('-')\n",
    "        if date[1]+date[2] == '0619':\n",
    "            temp1.append(float(row[-1]))\n",
    "            \n",
    "plt.figure(figsize=(10,10))\n",
    "n=plt.boxplot(temp1)"
   ]
  },
  {
   "cell_type": "code",
   "execution_count": 145,
   "metadata": {},
   "outputs": [
    {
     "data": {
      "image/png": "[encoded data removed]",
      "text/plain": [
       "<Figure size 720x720 with 1 Axes>"
      ]
     },
     "metadata": {
      "needs_background": "light"
     },
     "output_type": "display_data"
    }
   ],
   "source": [
    "#85~86처럼 8월과 1월의 최고 기온 히스토그램을 같이 그리세요\n",
    "import csv\n",
    "import matplotlib.pyplot as plt\n",
    "f = open('seoul.csv')\n",
    "data = csv.reader(f)\n",
    "next(data)\n",
    "n01=[]\n",
    "n02=[]\n",
    "for row in data:\n",
    "    if row[-1]!='':\n",
    "        date=row[0].split('-')\n",
    "        if date[1] == '01':\n",
    "            n01.append(float(row[-1]))\n",
    "        if date[1] == '08':\n",
    "            n02.append(float(row[-1]))\n",
    "\n",
    "plt.figure(figsize=(10,10))\n",
    "n=plt.boxplot([n01,n02], labels=['Jan','Aug'])\n"
   ]
  },
  {
   "cell_type": "code",
   "execution_count": 217,
   "metadata": {
    "scrolled": false
   },
   "outputs": [
    {
     "data": {
      "image/png": "[encoded data removed]",
      "text/plain": [
       "<Figure size 720x720 with 1 Axes>"
      ]
     },
     "metadata": {
      "needs_background": "light"
     },
     "output_type": "display_data"
    }
   ],
   "source": [
    "#1월부터 12월\n",
    "#85~86처럼 8월과 1월의 최고 기온 히스토그램을 같이 그리세요\n",
    "import csv\n",
    "import matplotlib.pyplot as plt\n",
    "f = open('seoul.csv')\n",
    "data = csv.reader(f)\n",
    "next(data)\n",
    "\n",
    "temp=[]\n",
    "for i in range(12):\n",
    "    temp.append([])\n",
    "temp\n",
    "\n",
    "#temp=[[],[],[],[],\n",
    "#      [],[],[],[],\n",
    "#      [],[],[],[]]\n",
    "\n",
    "for row in data:\n",
    "    if row[-1]!='':\n",
    "        date=row[0].split('-')\n",
    "        \n",
    "        a=int(date[1])%12\n",
    "        \n",
    "        if a==0:\n",
    "            a = 12\n",
    "        \n",
    "        temp[a-1].append(float(row[-1]))\n",
    "plt.figure(figsize=(10,10))      \n",
    "n=plt.boxplot(temp)"
   ]
  },
  {
   "cell_type": "code",
   "execution_count": 310,
   "metadata": {
    "scrolled": true
   },
   "outputs": [
    {
     "data": {
      "image/png": "[encoded data removed]",
      "text/plain": [
       "<Figure size 720x720 with 1 Axes>"
      ]
     },
     "metadata": {
      "needs_background": "light"
     },
     "output_type": "display_data"
    }
   ],
   "source": [
    "import pandas as pd\n",
    "\n",
    "data = pd.read_csv('seoul.csv',encoding='cp949')\n",
    "data=data.dropna()\n",
    "data.head()\n",
    "\n",
    "month=[]\n",
    "for i in range(12):\n",
    "    month.append([])\n",
    "\n",
    "arr = np.array(data)\n",
    "arr.shape\n",
    "\n",
    "for row in arr:\n",
    "    if row[-1]!='':        \n",
    "        month[int(row[0].split('-')[1])-1].append(float(row[-1]))\n",
    "plt.figure(figsize=(10,10))      \n",
    "n=plt.boxplot(month)"
   ]
  },
  {
   "cell_type": "code",
   "execution_count": 271,
   "metadata": {},
   "outputs": [
    {
     "data": {
      "text/plain": [
       "<function matplotlib.pyplot.show(*args, **kw)>"
      ]
     },
     "execution_count": 271,
     "metadata": {},
     "output_type": "execute_result"
    },
    {
     "data": {
      "image/png": "[encoded data removed]",
      "text/plain": [
       "<Figure size 432x288 with 1 Axes>"
      ]
     },
     "metadata": {
      "needs_background": "light"
     },
     "output_type": "display_data"
    }
   ],
   "source": [
    "import csv\n",
    "f = open('gender.csv')\n",
    "data=csv.reader(f)\n",
    "m=[]\n",
    "f=[]\n",
    "for row in data:\n",
    "    if '평촌동' in row[0]:\n",
    "        for i in range(0,101):\n",
    "            m.append(int(row[i+3]))\n",
    "            f.append(int(row[-(i+1)]))\n",
    "f.reverse()\n",
    "\n",
    "import matplotlib.pyplot as plt\n",
    "plt.barh(range(101),m)\n",
    "plt.barh(range(101),f)\n"
   ]
  },
  {
   "cell_type": "code",
   "execution_count": 316,
   "metadata": {},
   "outputs": [
    {
     "data": {
      "text/plain": [
       "<BarContainer object of 101 artists>"
      ]
     },
     "execution_count": 316,
     "metadata": {},
     "output_type": "execute_result"
    },
    {
     "data": {
      "image/png": "[encoded data removed]",
      "text/plain": [
       "<Figure size 432x288 with 1 Axes>"
      ]
     },
     "metadata": {
      "needs_background": "light"
     },
     "output_type": "display_data"
    }
   ],
   "source": [
    "import pandas as pd\n",
    "\n",
    "data = pd.read_csv('gender.csv',encoding='cp949')\n",
    "arr = np.array(data)\n",
    "\n",
    "m=[]\n",
    "f=[]\n",
    "arr = np.array(data)\n",
    "arr.shape\n",
    "\n",
    "\n",
    "for row in arr:\n",
    "    if '평촌동' in row[0]:\n",
    "        for i in range(0,101):\n",
    "            m.append(int(row[i+3]))\n",
    "            f.append(-int(row[-(i+1)]))\n",
    "f.reverse()\n",
    "\n",
    "import matplotlib.pyplot as plt\n",
    "plt.barh(range(101),m)\n",
    "plt.barh(range(101),f)\n",
    "\n"
   ]
  },
  {
   "cell_type": "code",
   "execution_count": 317,
   "metadata": {},
   "outputs": [
    {
     "data": {
      "text/plain": [
       "(34, 207)"
      ]
     },
     "execution_count": 317,
     "metadata": {},
     "output_type": "execute_result"
    }
   ],
   "source": [
    "import pandas as pd\n",
    "\n",
    "data = pd.read_csv('gender.csv',encoding='cp949')\n",
    "data.shape"
   ]
  },
  {
   "cell_type": "code",
   "execution_count": 320,
   "metadata": {
    "scrolled": false
   },
   "outputs": [
    {
     "data": {
      "text/html": [
       "<div>\n",
       "<style scoped>\n",
       "    .dataframe tbody tr th:only-of-type {\n",
       "        vertical-align: middle;\n",
       "    }\n",
       "\n",
       "    .dataframe tbody tr th {\n",
       "        vertical-align: top;\n",
       "    }\n",
       "\n",
       "    .dataframe thead th {\n",
       "        text-align: right;\n",
       "    }\n",
       "</style>\n",
       "<table border=\"1\" class=\"dataframe\">\n",
       "  <thead>\n",
       "    <tr style=\"text-align: right;\">\n",
       "      <th></th>\n",
       "      <th>행정구역</th>\n",
       "      <th>2019년05월_남_총인구수</th>\n",
       "      <th>2019년05월_남_연령구간인구수</th>\n",
       "      <th>2019년05월_남_0세</th>\n",
       "      <th>2019년05월_남_1세</th>\n",
       "      <th>2019년05월_남_2세</th>\n",
       "      <th>2019년05월_남_3세</th>\n",
       "      <th>2019년05월_남_4세</th>\n",
       "      <th>2019년05월_남_5세</th>\n",
       "      <th>2019년05월_남_6세</th>\n",
       "      <th>...</th>\n",
       "      <th>2019년05월_여_91세</th>\n",
       "      <th>2019년05월_여_92세</th>\n",
       "      <th>2019년05월_여_93세</th>\n",
       "      <th>2019년05월_여_94세</th>\n",
       "      <th>2019년05월_여_95세</th>\n",
       "      <th>2019년05월_여_96세</th>\n",
       "      <th>2019년05월_여_97세</th>\n",
       "      <th>2019년05월_여_98세</th>\n",
       "      <th>2019년05월_여_99세</th>\n",
       "      <th>2019년05월_여_100세 이상</th>\n",
       "    </tr>\n",
       "  </thead>\n",
       "  <tbody>\n",
       "    <tr>\n",
       "      <th>0</th>\n",
       "      <td>경기도 안양시 (4117000000)</td>\n",
       "      <td>283,867</td>\n",
       "      <td>283,867</td>\n",
       "      <td>1,871</td>\n",
       "      <td>1,921</td>\n",
       "      <td>2,102</td>\n",
       "      <td>2,266</td>\n",
       "      <td>2,277</td>\n",
       "      <td>2,269</td>\n",
       "      <td>2,350</td>\n",
       "      <td>...</td>\n",
       "      <td>275</td>\n",
       "      <td>221</td>\n",
       "      <td>178</td>\n",
       "      <td>112</td>\n",
       "      <td>81</td>\n",
       "      <td>87</td>\n",
       "      <td>46</td>\n",
       "      <td>45</td>\n",
       "      <td>18</td>\n",
       "      <td>116</td>\n",
       "    </tr>\n",
       "    <tr>\n",
       "      <th>1</th>\n",
       "      <td>경기도 안양시 만안구 (4117100000)</td>\n",
       "      <td>124,795</td>\n",
       "      <td>124,795</td>\n",
       "      <td>783</td>\n",
       "      <td>832</td>\n",
       "      <td>887</td>\n",
       "      <td>940</td>\n",
       "      <td>948</td>\n",
       "      <td>905</td>\n",
       "      <td>919</td>\n",
       "      <td>...</td>\n",
       "      <td>121</td>\n",
       "      <td>107</td>\n",
       "      <td>75</td>\n",
       "      <td>55</td>\n",
       "      <td>39</td>\n",
       "      <td>48</td>\n",
       "      <td>19</td>\n",
       "      <td>18</td>\n",
       "      <td>7</td>\n",
       "      <td>54</td>\n",
       "    </tr>\n",
       "    <tr>\n",
       "      <th>2</th>\n",
       "      <td>경기도 안양시 만안구 안양1동(4117151000)</td>\n",
       "      <td>8,622</td>\n",
       "      <td>8,622</td>\n",
       "      <td>55</td>\n",
       "      <td>64</td>\n",
       "      <td>71</td>\n",
       "      <td>73</td>\n",
       "      <td>79</td>\n",
       "      <td>62</td>\n",
       "      <td>59</td>\n",
       "      <td>...</td>\n",
       "      <td>5</td>\n",
       "      <td>5</td>\n",
       "      <td>6</td>\n",
       "      <td>4</td>\n",
       "      <td>2</td>\n",
       "      <td>1</td>\n",
       "      <td>1</td>\n",
       "      <td>2</td>\n",
       "      <td>0</td>\n",
       "      <td>2</td>\n",
       "    </tr>\n",
       "    <tr>\n",
       "      <th>3</th>\n",
       "      <td>경기도 안양시 만안구 안양2동(4117152000)</td>\n",
       "      <td>10,826</td>\n",
       "      <td>10,826</td>\n",
       "      <td>49</td>\n",
       "      <td>75</td>\n",
       "      <td>63</td>\n",
       "      <td>76</td>\n",
       "      <td>64</td>\n",
       "      <td>78</td>\n",
       "      <td>67</td>\n",
       "      <td>...</td>\n",
       "      <td>7</td>\n",
       "      <td>6</td>\n",
       "      <td>6</td>\n",
       "      <td>7</td>\n",
       "      <td>2</td>\n",
       "      <td>5</td>\n",
       "      <td>1</td>\n",
       "      <td>3</td>\n",
       "      <td>0</td>\n",
       "      <td>6</td>\n",
       "    </tr>\n",
       "    <tr>\n",
       "      <th>4</th>\n",
       "      <td>경기도 안양시 만안구 안양3동(4117153000)</td>\n",
       "      <td>8,519</td>\n",
       "      <td>8,519</td>\n",
       "      <td>49</td>\n",
       "      <td>37</td>\n",
       "      <td>47</td>\n",
       "      <td>39</td>\n",
       "      <td>44</td>\n",
       "      <td>46</td>\n",
       "      <td>62</td>\n",
       "      <td>...</td>\n",
       "      <td>9</td>\n",
       "      <td>8</td>\n",
       "      <td>4</td>\n",
       "      <td>0</td>\n",
       "      <td>1</td>\n",
       "      <td>4</td>\n",
       "      <td>2</td>\n",
       "      <td>0</td>\n",
       "      <td>1</td>\n",
       "      <td>5</td>\n",
       "    </tr>\n",
       "  </tbody>\n",
       "</table>\n",
       "<p>5 rows × 207 columns</p>\n",
       "</div>"
      ],
      "text/plain": [
       "                           행정구역 2019년05월_남_총인구수 2019년05월_남_연령구간인구수  \\\n",
       "0          경기도 안양시 (4117000000)         283,867            283,867   \n",
       "1      경기도 안양시 만안구 (4117100000)         124,795            124,795   \n",
       "2  경기도 안양시 만안구 안양1동(4117151000)           8,622              8,622   \n",
       "3  경기도 안양시 만안구 안양2동(4117152000)          10,826             10,826   \n",
       "4  경기도 안양시 만안구 안양3동(4117153000)           8,519              8,519   \n",
       "\n",
       "  2019년05월_남_0세 2019년05월_남_1세 2019년05월_남_2세 2019년05월_남_3세 2019년05월_남_4세  \\\n",
       "0         1,871         1,921         2,102         2,266         2,277   \n",
       "1           783           832           887           940           948   \n",
       "2            55            64            71            73            79   \n",
       "3            49            75            63            76            64   \n",
       "4            49            37            47            39            44   \n",
       "\n",
       "  2019년05월_남_5세 2019년05월_남_6세  ... 2019년05월_여_91세 2019년05월_여_92세  \\\n",
       "0         2,269         2,350  ...            275            221   \n",
       "1           905           919  ...            121            107   \n",
       "2            62            59  ...              5              5   \n",
       "3            78            67  ...              7              6   \n",
       "4            46            62  ...              9              8   \n",
       "\n",
       "  2019년05월_여_93세 2019년05월_여_94세 2019년05월_여_95세 2019년05월_여_96세 2019년05월_여_97세  \\\n",
       "0            178            112             81             87             46   \n",
       "1             75             55             39             48             19   \n",
       "2              6              4              2              1              1   \n",
       "3              6              7              2              5              1   \n",
       "4              4              0              1              4              2   \n",
       "\n",
       "  2019년05월_여_98세 2019년05월_여_99세 2019년05월_여_100세 이상  \n",
       "0             45             18                116  \n",
       "1             18              7                 54  \n",
       "2              2              0                  2  \n",
       "3              3              0                  6  \n",
       "4              0              1                  5  \n",
       "\n",
       "[5 rows x 207 columns]"
      ]
     },
     "execution_count": 320,
     "metadata": {},
     "output_type": "execute_result"
    }
   ],
   "source": [
    "data.head(5)"
   ]
  },
  {
   "cell_type": "code",
   "execution_count": 346,
   "metadata": {},
   "outputs": [
    {
     "data": {
      "text/plain": [
       "('2019년05월_남_0세', '2019년05월_남_90세', '2019년05월_여_0세', '2019년05월_여_90세')"
      ]
     },
     "execution_count": 346,
     "metadata": {},
     "output_type": "execute_result"
    }
   ],
   "source": [
    "max_age = 90\n",
    "man_0='2019년05월_남_0세'\n",
    "woman_0='2019년05월_여_0세'\n",
    "columns=list(data.columns)\n",
    "man_0_index=columns.index(man_0)\n",
    "woman_0_index=columns.index(woman_0)\n",
    "columns[man_0_index], columns[man_0_index+max_age],columns[woman_0_index], columns[woman_0_index+max_age]"
   ]
  },
  {
   "cell_type": "code",
   "execution_count": 349,
   "metadata": {},
   "outputs": [
    {
     "data": {
      "text/plain": [
       "(3842, 207)"
      ]
     },
     "execution_count": 349,
     "metadata": {},
     "output_type": "execute_result"
    }
   ],
   "source": [
    "import pandas as pd\n",
    "\n",
    "df = pd.read_csv('20190619_gender.csv',encoding='cp949')\n",
    "df.shape"
   ]
  },
  {
   "cell_type": "code",
   "execution_count": 358,
   "metadata": {},
   "outputs": [
    {
     "data": {
      "text/plain": [
       "('2019년05월_남_0세', '2019년05월_남_90세', '2019년05월_여_0세', '2019년05월_여_90세')"
      ]
     },
     "execution_count": 358,
     "metadata": {},
     "output_type": "execute_result"
    }
   ],
   "source": [
    "max_age = 90\n",
    "city='평촌'\n",
    "man_0='2019년05월_남_0세'\n",
    "woman_0='2019년05월_여_0세'\n",
    "columns=list(df.columns)\n",
    "man_0_index=columns.index(man_0)\n",
    "woman_0_index=columns.index(woman_0)\n",
    "columns[man_0_index], columns[man_0_index+max_age],columns[woman_0_index], columns[woman_0_index+max_age]"
   ]
  },
  {
   "cell_type": "code",
   "execution_count": 352,
   "metadata": {},
   "outputs": [
    {
     "data": {
      "text/plain": [
       "array(['서울특별시  (1100000000)', '서울특별시 종로구 (1111000000)',\n",
       "       '서울특별시 종로구 청운효자동(1111051500)'], dtype=object)"
      ]
     },
     "execution_count": 352,
     "metadata": {},
     "output_type": "execute_result"
    }
   ],
   "source": [
    "data=np.array(df)\n",
    "area=data[:,0]\n",
    "area[:3]"
   ]
  },
  {
   "cell_type": "code",
   "execution_count": 390,
   "metadata": {
    "scrolled": true
   },
   "outputs": [
    {
     "name": "stdout",
     "output_type": "stream",
     "text": [
      "1404 경기도 안양시 동안구 평촌동(4117357000)\n"
     ]
    },
    {
     "data": {
      "text/plain": [
       "(array([ 37,  48,  63,  83,  65,  79, 100, 117, 101,  99, 110,  95,  91,\n",
       "         86,  96,  86,  78,  98, 123, 109, 116, 122, 151, 132, 148, 123,\n",
       "        134, 121, 111,  82,  70,  66,  78,  69,  83,  95, 103, 111, 111,\n",
       "        117, 113, 133, 116, 131, 121, 143, 140, 151, 169, 143, 167, 156,\n",
       "        172, 148, 182, 142, 151, 139, 137, 149, 101,  85,  84,  90,  68,\n",
       "         52,  54,  47,  37,  51,  25,  34,  36,  36,  30,  14,  20,  25,\n",
       "         22,  22,  19,  22,  23,  15,  12,  10,   6,   5,   4,   2]),\n",
       " array([ 34,  63,  55,  73,  96,  60,  81, 108,  86,  80,  95, 124,  97,\n",
       "         82,  87,  86,  89,  78, 100,  97, 118, 131, 123, 120, 118, 127,\n",
       "        107,  98,  92,  67,  76,  90,  83,  81,  85, 108, 130, 139, 134,\n",
       "        130, 126, 139, 146, 142, 156, 166, 152, 159, 192, 182, 187, 176,\n",
       "        174, 170, 164, 129, 133, 120, 136, 106,  95,  91,  95,  79,  62,\n",
       "         44,  52,  51,  47,  40,  45,  30,  39,  28,  25,  28,  37,  33,\n",
       "         33,  35,  33,  33,  30,  29,  22,  11,  14,  10,  11,   7]),\n",
       " (90,),\n",
       " (90,))"
      ]
     },
     "execution_count": 390,
     "metadata": {},
     "output_type": "execute_result"
    }
   ],
   "source": [
    "city='평촌'\n",
    "city_row_index=-1\n",
    "for row in range(len(area)):\n",
    "    if city in area[row]:\n",
    "        city_row_index=row\n",
    "        print(row, area[row])\n",
    "\n",
    "city_data = data[city_row_index]\n",
    "city_man  = city_data[man_0_index:man_0_index+max_age].astype(np.int)\n",
    "city_woman= city_data[woman_0_index:woman_0_index+max_age].astype(np.int)\n",
    "city_man, city_woman, city_man.shape, city_woman.shape"
   ]
  },
  {
   "cell_type": "code",
   "execution_count": 403,
   "metadata": {
    "scrolled": true
   },
   "outputs": [
    {
     "data": {
      "text/plain": [
       "<matplotlib.legend.Legend at 0x1ba54890278>"
      ]
     },
     "execution_count": 403,
     "metadata": {},
     "output_type": "execute_result"
    },
    {
     "data": {
      "image/png": "[encoded data removed]",
      "text/plain": [
       "<Figure size 720x720 with 1 Axes>"
      ]
     },
     "metadata": {
      "needs_background": "light"
     },
     "output_type": "display_data"
    }
   ],
   "source": [
    "plt.figure(figsize=(10,10))     \n",
    "plt.barh(np.arange(len(city_man)),city_man, label='man')\n",
    "plt.barh(range(90),-city_woman, label='woman')\n",
    "plt.legend(loc=10)\n"
   ]
  },
  {
   "cell_type": "code",
   "execution_count": 454,
   "metadata": {
    "scrolled": true
   },
   "outputs": [
    {
     "name": "stdout",
     "output_type": "stream",
     "text": [
      "1404 경기도 안양시 동안구 평촌동(4117357000)\n"
     ]
    },
    {
     "data": {
      "text/plain": [
       "<matplotlib.legend.Legend at 0x1ba55685c50>"
      ]
     },
     "execution_count": 454,
     "metadata": {},
     "output_type": "execute_result"
    },
    {
     "data": {
      "image/png": "[encoded data removed]",
      "text/plain": [
       "<Figure size 1080x720 with 1 Axes>"
      ]
     },
     "metadata": {
      "needs_background": "light"
     },
     "output_type": "display_data"
    }
   ],
   "source": [
    "import pandas as pd\n",
    "\n",
    "df = pd.read_csv('20190619_gender.csv',encoding='cp949')\n",
    "df.shape\n",
    "max_age = 90\n",
    "city='평촌'\n",
    "man_0='2019년05월_남_0세'\n",
    "woman_0='2019년05월_여_0세'\n",
    "columns=list(df.columns)\n",
    "man_0_index=columns.index(man_0)\n",
    "woman_0_index=columns.index(woman_0)\n",
    "columns[man_0_index], columns[man_0_index+max_age],columns[woman_0_index], columns[woman_0_index+max_age]\n",
    "city_row_index=-1\n",
    "data=np.array(df)\n",
    "area=data[:,0]\n",
    "for row in range(len(area)):\n",
    "    if city in area[row]:\n",
    "        city_row_index=row\n",
    "        print(row, area[row])\n",
    "\n",
    "city_data = data[city_row_index]\n",
    "city_man  = city_data[man_0_index:man_0_index+max_age].astype(np.int)\n",
    "city_woman= city_data[woman_0_index:woman_0_index+max_age].astype(np.int)\n",
    "city_man, city_woman, city_man.shape, city_woman.shape\n",
    "plt.figure(figsize=(15,10))     \n",
    "plt.barh(np.arange(len(city_man)),city_man, label='man')\n",
    "plt.barh(range(90),-city_woman, label='woman')\n",
    "plt.legend(loc=10)\n"
   ]
  },
  {
   "cell_type": "code",
   "execution_count": 514,
   "metadata": {
    "scrolled": false
   },
   "outputs": [
    {
     "data": {
      "text/plain": [
       "<matplotlib.legend.Legend at 0x1ba5943fd68>"
      ]
     },
     "execution_count": 514,
     "metadata": {},
     "output_type": "execute_result"
    },
    {
     "data": {
      "image/png": "[encoded data removed]",
      "text/plain": [
       "<Figure size 1080x720 with 1 Axes>"
      ]
     },
     "metadata": {
      "needs_background": "light"
     },
     "output_type": "display_data"
    }
   ],
   "source": [
    "import pandas as pd\n",
    "\n",
    "df = pd.read_csv('20190619_gender.csv',encoding='cp949')\n",
    "df = df.replace(',','',regex=True)\n",
    "\n",
    "max_age = 90\n",
    "man_0='2019년05월_남_0세'\n",
    "woman_0='2019년05월_여_0세'\n",
    "columns=list(df.columns)\n",
    "man_0_index=columns.index(man_0)\n",
    "woman_0_index=columns.index(woman_0)\n",
    "columns[man_0_index], columns[man_0_index+max_age],columns[woman_0_index], columns[woman_0_index+max_age]\n",
    "data=np.array(df)\n",
    "area=data[:,0]\n",
    "area[:3]\n",
    "city = ' '\n",
    "is_contain=[]\n",
    "\n",
    "for i in range(len(area)):\n",
    "    is_contain.append(city in area[i])\n",
    "\n",
    "np.mean(is_contain)\n",
    "city_data=data[is_contain]\n",
    "city_data.shape\n",
    "city_man   = city_data[:, man_0_index  : man_0_index  +max_age].astype(np.int)\n",
    "city_woman = city_data[:, woman_0_index: woman_0_index+max_age].astype(np.int)\n",
    "city_man.shape, city_woman.shape\n",
    "\n",
    "city_man=np.sum(city_man,axis=0)\n",
    "city_woman=np.sum(city_woman,axis=0)\n",
    "city_man.shape, city_woman.shape\n",
    "\n",
    "plt.figure(figsize=(15,10))     \n",
    "plt.title('KKK')\n",
    "plt.barh(np.arange(len(city_man)),city_man, label='man')\n",
    "plt.barh(range(90),-city_woman, label='woman')\n",
    "plt.legend(loc=10)\n"
   ]
  },
  {
   "cell_type": "code",
   "execution_count": 474,
   "metadata": {
    "scrolled": true
   },
   "outputs": [
    {
     "data": {
      "text/plain": [
       "(array(['서울특별시  (1100000000)', '서울특별시 종로구 (1111000000)',\n",
       "        '서울특별시 종로구 청운효자동(1111051500)', ..., '제주특별자치도 서귀포시 대천동(5013060000)',\n",
       "        '제주특별자치도 서귀포시 중문동(5013061000)', '제주특별자치도 서귀포시 예래동(5013062000)'],\n",
       "       dtype=object),\n",
       " array([['4766085', '4766085', '27555', ..., 811, 632, '4526'],\n",
       "        ['74240', '74240', '326', ..., 18, 26, '163'],\n",
       "        ['6015', '6015', '28', ..., 3, 3, '13'],\n",
       "        ...,\n",
       "        ['6939', '6939', '66', ..., 1, 2, '2'],\n",
       "        ['5768', '5768', '36', ..., 1, 2, '4'],\n",
       "        ['2103', '2103', '22', ..., 1, 1, '5']], dtype=object))"
      ]
     },
     "execution_count": 474,
     "metadata": {},
     "output_type": "execute_result"
    }
   ],
   "source": [
    "import pandas as pd\n",
    "\n",
    "df = pd.read_csv('20190619_gender.csv',encoding='cp949')\n",
    "df = df.replace(',','',regex=True)\n",
    "data=np.array(df)\n",
    "\n",
    "area=data[:,0]\n",
    "age_cnt=data[:,1:]\n",
    "area,age_cnt"
   ]
  },
  {
   "cell_type": "code",
   "execution_count": 511,
   "metadata": {
    "scrolled": true
   },
   "outputs": [
    {
     "data": {
      "image/png": "[encoded data removed]",
      "text/plain": [
       "<Figure size 432x288 with 1 Axes>"
      ]
     },
     "metadata": {},
     "output_type": "display_data"
    }
   ],
   "source": [
    "plt.rc('font',family='Malgun Gothic')\n",
    "plt.title('pie graph')\n",
    "plt.pie([10,20,30], labels=['10','20','30'], autopct='%.1f %%', colors=['white','black','gray'], explode=(0,0.1,0))\n",
    "m=plt.legend()\n"
   ]
  },
  {
   "cell_type": "code",
   "execution_count": 515,
   "metadata": {
    "scrolled": true
   },
   "outputs": [
    {
     "data": {
      "image/png": "[encoded data removed]",
      "text/plain": [
       "<Figure size 432x288 with 1 Axes>"
      ]
     },
     "metadata": {},
     "output_type": "display_data"
    }
   ],
   "source": [
    "plt.title('Population In Jeju')\n",
    "n = plt.pie([np.sum(city_man),np.sum(city_woman)], labels=['M','W'],autopct='%.1f %%', colors=['skyblue','pink'],explode=(0,0.1))\n",
    "m=plt.legend()"
   ]
  },
  {
   "cell_type": "code",
   "execution_count": 516,
   "metadata": {
    "scrolled": false
   },
   "outputs": [
    {
     "data": {
      "text/plain": [
       "<matplotlib.legend.Legend at 0x1ba509eb438>"
      ]
     },
     "execution_count": 516,
     "metadata": {},
     "output_type": "execute_result"
    },
    {
     "data": {
      "image/png": "[encoded data removed]",
      "text/plain": [
       "<Figure size 1080x720 with 1 Axes>"
      ]
     },
     "metadata": {
      "needs_background": "light"
     },
     "output_type": "display_data"
    }
   ],
   "source": [
    "plt.figure(figsize=(15,10))     \n",
    "plt.title('M/W Population In Jeju')\n",
    "plt.plot(city_man, label='man')\n",
    "plt.plot(city_woman, label='woman')\n",
    "plt.legend(loc=1)"
   ]
  },
  {
   "cell_type": "code",
   "execution_count": 517,
   "metadata": {
    "scrolled": true
   },
   "outputs": [
    {
     "data": {
      "text/plain": [
       "<BarContainer object of 90 artists>"
      ]
     },
     "execution_count": 517,
     "metadata": {},
     "output_type": "execute_result"
    },
    {
     "data": {
      "image/png": "[encoded data removed]",
      "text/plain": [
       "<Figure size 720x144 with 1 Axes>"
      ]
     },
     "metadata": {
      "needs_background": "light"
     },
     "output_type": "display_data"
    }
   ],
   "source": [
    "plt.figure(figsize=(10,2))     \n",
    "plt.bar(np.arange(len(city_man)),city_man-city_woman)"
   ]
  },
  {
   "cell_type": "code",
   "execution_count": 526,
   "metadata": {},
   "outputs": [
    {
     "data": {
      "image/png": "[encoded data removed]",
      "text/plain": [
       "<Figure size 432x288 with 2 Axes>"
      ]
     },
     "metadata": {
      "needs_background": "light"
     },
     "output_type": "display_data"
    }
   ],
   "source": [
    "color = ['red','green','black','gold']\n",
    "y=np.random.randint(0,100, size=100)\n",
    "plt.scatter(np.arange(len(y)),y, s=y, c=range(len(y)), cmap='jet', alpha=0.5)\n",
    "n=plt.colorbar()"
   ]
  }
 ],
 "metadata": {
  "kernelspec": {
   "display_name": "Python 3",
   "language": "python",
   "name": "python3"
  },
  "language_info": {
   "codemirror_mode": {
    "name": "ipython",
    "version": 3
   },
   "file_extension": ".py",
   "mimetype": "text/x-python",
   "name": "python",
   "nbconvert_exporter": "python",
   "pygments_lexer": "ipython3",
   "version": "3.7.3"
  }
 },
 "nbformat": 4,
 "nbformat_minor": 2
}
